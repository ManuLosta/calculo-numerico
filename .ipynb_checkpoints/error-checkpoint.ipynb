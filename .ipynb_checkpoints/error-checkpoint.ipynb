{
 "cells": [
  {
   "cell_type": "markdown",
   "source": [
    "### 4)\n",
    "Calculo del número e:"
   ],
   "metadata": {
    "collapsed": false
   },
   "id": "f94ea4014be51027"
  },
  {
   "cell_type": "code",
   "execution_count": null,
   "outputs": [],
   "source": [
    "import math\n",
    "\n",
    "def e(max):\n",
    "    for i in range(max):\n",
    "        n = 10**i\n",
    "        e = (1 + 1/n)**n\n",
    "        \n",
    "        print(f\"n = 10^{i}   e = {e}   error = {abs(math.e - e)}\")\n",
    "        \n",
    "        \n",
    "e(25)"
   ],
   "metadata": {
    "collapsed": false
   },
   "id": "489b9ce7a3d3502e"
  },
  {
   "cell_type": "markdown",
   "source": [],
   "metadata": {
    "collapsed": false
   },
   "id": "9bfb36b353a36d21"
  },
  {
   "cell_type": "code",
   "execution_count": null,
   "outputs": [],
   "source": [],
   "metadata": {
    "collapsed": false
   },
   "id": "2dc137524222da8"
  }
 ],
 "metadata": {
  "kernelspec": {
   "display_name": "Python 3",
   "language": "python",
   "name": "python3"
  },
  "language_info": {
   "codemirror_mode": {
    "name": "ipython",
    "version": 2
   },
   "file_extension": ".py",
   "mimetype": "text/x-python",
   "name": "python",
   "nbconvert_exporter": "python",
   "pygments_lexer": "ipython2",
   "version": "2.7.6"
  }
 },
 "nbformat": 4,
 "nbformat_minor": 5
}
