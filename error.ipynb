{
 "cells": [
  {
   "cell_type": "markdown",
   "id": "f94ea4014be51027",
   "metadata": {
    "collapsed": false
   },
   "source": [
    "### 3)\n",
    "Calculo del número e:"
   ]
  },
  {
   "cell_type": "code",
   "execution_count": 1,
   "id": "489b9ce7a3d3502e",
   "metadata": {
    "collapsed": false
   },
   "outputs": [
    {
     "name": "stdout",
     "output_type": "stream",
     "text": [
      "n = 10^0   e = 2.0   error = 0.7182818284590451\n",
      "n = 10^1   e = 2.5937424601000023   error = 0.12453936835904278\n",
      "n = 10^2   e = 2.7048138294215285   error = 0.01346799903751661\n",
      "n = 10^3   e = 2.7169239322355936   error = 0.0013578962234515046\n",
      "n = 10^4   e = 2.7181459268249255   error = 0.000135901634119584\n",
      "n = 10^5   e = 2.7182682371922975   error = 1.359126674760347e-05\n",
      "n = 10^6   e = 2.7182804690957534   error = 1.359363291708604e-06\n",
      "n = 10^7   e = 2.7182816941320818   error = 1.3432696333026684e-07\n",
      "n = 10^8   e = 2.7182817983473577   error = 3.011168736577474e-08\n",
      "n = 10^9   e = 2.7182820520115603   error = 2.2355251516614771e-07\n",
      "n = 10^10   e = 2.7182820532347876   error = 2.2477574246337895e-07\n",
      "n = 10^11   e = 2.71828205335711   error = 2.248980650598753e-07\n",
      "n = 10^12   e = 2.7185234960372378   error = 0.00024166757819266138\n",
      "n = 10^13   e = 2.716110034086901   error = 0.002171794372144209\n",
      "n = 10^14   e = 2.716110034087023   error = 0.0021717943720220845\n",
      "n = 10^15   e = 3.035035206549262   error = 0.31675337809021675\n",
      "n = 10^16   e = 1.0   error = 1.718281828459045\n",
      "n = 10^17   e = 1.0   error = 1.718281828459045\n",
      "n = 10^18   e = 1.0   error = 1.718281828459045\n",
      "n = 10^19   e = 1.0   error = 1.718281828459045\n",
      "n = 10^20   e = 1.0   error = 1.718281828459045\n",
      "n = 10^21   e = 1.0   error = 1.718281828459045\n",
      "n = 10^22   e = 1.0   error = 1.718281828459045\n",
      "n = 10^23   e = 1.0   error = 1.718281828459045\n",
      "n = 10^24   e = 1.0   error = 1.718281828459045\n"
     ]
    }
   ],
   "source": [
    "import math\n",
    "\n",
    "def e(max):\n",
    "    min_error = (9999, 0)\n",
    "    for i in range(max):\n",
    "        n = 10**i\n",
    "        e = (1 + 1/n)**n\n",
    "        error = abs(math.e - e)\n",
    "        \n",
    "        if error < min_error[0]:\n",
    "            min_error = (error, i)\n",
    "        \n",
    "        print(f\"n = 10^{i}   e = {e}   error = {abs(math.e - e)}\")\n",
    "\n",
    "    print(f\"\\n El mínimo error es de {min_error[0]} con n = 10^{min_error[1]}\")        \n",
    "        \n",
    "e(25)"
   ]
  },
  {
   "cell_type": "markdown",
   "id": "9bfb36b353a36d21",
   "metadata": {
    "collapsed": false
   },
   "source": []
  }
 ],
 "metadata": {
  "kernelspec": {
   "display_name": "Python 3 (ipykernel)",
   "language": "python",
   "name": "python3"
  },
  "language_info": {
   "codemirror_mode": {
    "name": "ipython",
    "version": 3
   },
   "file_extension": ".py",
   "mimetype": "text/x-python",
   "name": "python",
   "nbconvert_exporter": "python",
   "pygments_lexer": "ipython3",
   "version": "3.11.5"
  }
 },
 "nbformat": 4,
 "nbformat_minor": 5
}
